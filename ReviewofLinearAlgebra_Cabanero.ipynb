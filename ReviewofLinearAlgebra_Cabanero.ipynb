{
  "nbformat": 4,
  "nbformat_minor": 0,
  "metadata": {
    "colab": {
      "provenance": [],
      "authorship_tag": "ABX9TyNaNo+ukB54LYtpcNtxgsFz",
      "include_colab_link": true
    },
    "kernelspec": {
      "name": "python3",
      "display_name": "Python 3"
    },
    "language_info": {
      "name": "python"
    }
  },
  "cells": [
    {
      "cell_type": "markdown",
      "metadata": {
        "id": "view-in-github",
        "colab_type": "text"
      },
      "source": [
        "<a href=\"https://colab.research.google.com/github/MikaelaGraceCabanero/Electives2-Machine-Learning/blob/main/ReviewofLinearAlgebra_Cabanero.ipynb\" target=\"_parent\"><img src=\"https://colab.research.google.com/assets/colab-badge.svg\" alt=\"Open In Colab\"/></a>"
      ]
    },
    {
      "cell_type": "markdown",
      "source": [
        "CABANERO, MIKAELA GRACE E\n"
      ],
      "metadata": {
        "id": "qC5kkY-JHYsG"
      }
    },
    {
      "cell_type": "markdown",
      "source": [
        "BET-CpET 4A NS"
      ],
      "metadata": {
        "id": "Qbp1oA8HHpMF"
      }
    },
    {
      "cell_type": "markdown",
      "source": [
        "#VECTORS\n"
      ],
      "metadata": {
        "id": "nUg36lE3JRc5"
      }
    },
    {
      "cell_type": "code",
      "execution_count": null,
      "metadata": {
        "id": "gng4hICpHX_9"
      },
      "outputs": [],
      "source": [
        "import numpy as np\n",
        "\n",
        "A = np.array([4,3])\n",
        "B = np.array([2, -5])\n",
        "\n",
        "print('Vector A is ', A)\n",
        "print('Vector B is ', B)"
      ]
    },
    {
      "cell_type": "markdown",
      "source": [
        "#LINEAR COMBINATION"
      ],
      "metadata": {
        "id": "_Ua-679eJY4R"
      }
    },
    {
      "cell_type": "code",
      "source": [
        "vectX =  np.array([2,5])\n",
        "vectY =  np.array([7,9])"
      ],
      "metadata": {
        "id": "xkFjtbPfIoD-"
      },
      "execution_count": null,
      "outputs": []
    },
    {
      "cell_type": "markdown",
      "source": [
        "#VECTOR SPANS AND SPACES"
      ],
      "metadata": {
        "id": "zds4TU2jJgAZ"
      }
    },
    {
      "cell_type": "code",
      "source": [
        "c = np.arange(-10,10,0.0125)\n",
        "\n",
        "plt.scatter(c*vectX[0],c*vectX[1])\n",
        "\n",
        "plt.xlim(-10,10)\n",
        "plt.ylim(-10,10)\n",
        "plt.axhline(y=0, color='k')\n",
        "plt.axvline(x=0, color='k')\n",
        "plt.grid()\n",
        "plt.show()"
      ],
      "metadata": {
        "id": "-J4j2U3BIrmS"
      },
      "execution_count": null,
      "outputs": []
    },
    {
      "cell_type": "code",
      "source": [
        "vectA = np.array([1,0])\n",
        "vectB = np.array([1,-1])\n",
        "\n",
        "R = np.arange(-10,10,1)\n",
        "\n",
        "c1, c2 = np.meshgrid(R,R)\n",
        "vectR = vectA + vectB\n",
        "spanRx = c1*vectA[0] + c2*vectB[0]\n",
        "spanRy = c1*vectA[1] + c2*vectB[1]\n",
        "plt.scatter(spanRx,spanRy, s=5, alpha=0.75)\n",
        "\n",
        "plt.axhline(y=0, color='k')\n",
        "plt.axvline(x=0, color='k')\n",
        "plt.grid()\n",
        "plt.show()"
      ],
      "metadata": {
        "id": "8j1tL6SjIr1R"
      },
      "execution_count": null,
      "outputs": []
    },
    {
      "cell_type": "markdown",
      "source": [
        "#INNER PRODUCT"
      ],
      "metadata": {
        "id": "ecRyP6ogJpNg"
      }
    },
    {
      "cell_type": "code",
      "source": [
        "u = np.array([1,2,3])\n",
        "v = np.array([4,2-3])\n",
        "\n",
        "u_dot_v = u @ v"
      ],
      "metadata": {
        "id": "ZGc7eumHIyJR"
      },
      "execution_count": null,
      "outputs": []
    },
    {
      "cell_type": "markdown",
      "source": [
        "#EIGENVALUES"
      ],
      "metadata": {
        "id": "luwx4moaJ0gI"
      }
    },
    {
      "cell_type": "code",
      "source": [
        "def plot_quiv(x,y=None,eig=None):\n",
        "    size= (5,5)\n",
        "    plt.figure(figsize=(4,4))\n",
        "          \n",
        "    plt.xlim(-size[0],size[0])\n",
        "    plt.ylim(-size[1],size[1])\n",
        "    plt.xticks(np.arange((-size[0]), size[0]+1, 1.0))\n",
        "    plt.yticks(np.arange((-size[1]), size[1]+1, 1.0))\n",
        "    \n",
        "    plt.quiver([0,0],[0,0], x[0,:], x[1,:], \n",
        "               angles='xy', scale_units='xy',scale=1, \n",
        "               color=['red','red'], label='Original Vector')## use column spaces\n",
        "    if y is not None:\n",
        "        plt.quiver([0,0],[0,0], y[0,:], y[1,:], \n",
        "               angles='xy', scale_units='xy',scale=1, \n",
        "               color=['blue','blue'], label='Transformed Vector')## use column spaces\n",
        "    if eig is not None:\n",
        "        c = np.arange(-10,10,0.25)\n",
        "#         plt.plot(c*eig[0,0],c*eig[1,0], color='orange') \n",
        "        plt.plot(c*eig[0,1], c*eig[1,1], color='orange', label='Eigenspace') \n",
        "        plt.plot(c*eig[0,0],c*eig[1,0], color='orange') \n",
        "        \n",
        "        plt.plot(c*eig[0,0], c*eig[0,1], color='orange', label='Eigenspace') \n",
        "        plt.plot(c*eig[1,0],c*eig[1,1], color='orange') \n",
        "\n",
        "        \n",
        "    plt.grid()\n",
        "    plt.legend()\n",
        "    plt.show()"
      ],
      "metadata": {
        "id": "jO06l9bTIyew"
      },
      "execution_count": null,
      "outputs": []
    },
    {
      "cell_type": "code",
      "source": [
        "## Let's try to determine that manually\n",
        "x = np.array([\n",
        "    [1,-1],\n",
        "    [0,2]\n",
        "])\n",
        "plot_quiv(x)"
      ],
      "metadata": {
        "id": "XRdKK1fcI8dB"
      },
      "execution_count": null,
      "outputs": []
    },
    {
      "cell_type": "code",
      "source": [
        "F = np.array([\n",
        "    [2, 1.5],\n",
        "    [0, 1]\n",
        "])\n",
        "A = F@x\n",
        "print(A)\n",
        "plot_quiv(x,A)"
      ],
      "metadata": {
        "id": "qp1SmZ81I8qQ"
      },
      "execution_count": null,
      "outputs": []
    },
    {
      "cell_type": "code",
      "source": [
        "def plot_tr_eig(inp, trans, eig, q1=False):\n",
        "    c1 = np.arange(-5, 5, 0.5)\n",
        "    c2 = np.arange(-5, 5, 0.5)\n",
        "    if q1:\n",
        "        c1 = np.arange(0, 5, 0.5)\n",
        "        c2 = np.arange(0, 5, 0.5)    \n",
        "    X,Y= np.meshgrid(c1, c2)\n",
        "    v = np.array([X.flatten(),Y.flatten()])\n",
        "    A = F@inp@v   \n",
        "\n",
        "    fig, ax = plt.subplots()    \n",
        "    size= (5,5)\n",
        "    fig.set_size_inches(10,10)\n",
        "          \n",
        "    ax.set_xlim(-size[0],size[0])\n",
        "    ax.set_ylim(-size[1],size[1])\n",
        "    ax.set_xticks(np.arange((-size[0]), size[0]+1, 1.0))\n",
        "    ax.set_yticks(np.arange((-size[1]), size[1]+1, 1.0))    \n",
        "    if q1:\n",
        "        ax.set_xlim(0,size[0])\n",
        "        ax.set_ylim(0,size[1])\n",
        "        ax.set_xticks(np.arange(0, size[0]+1, 1.0))\n",
        "        ax.set_yticks(np.arange(0, size[1]+1, 1.0))\n",
        "    q = ax.quiver(X, Y,\n",
        "                  A[0,:].reshape(int(np.sqrt(A[0,:].size)), int(np.sqrt(A[0,:].size))), \n",
        "                  A[1,:].reshape(int(np.sqrt(A[1,:].size)), int(np.sqrt(A[1,:].size))),\n",
        "                 color='royalblue')\n",
        "    ax.quiverkey(q, X=0.3, Y=1.1, U=10,\n",
        "                 label='Quiver key, length = 10', labelpos='E')    \n",
        "    if eig is not None:\n",
        "        c = np.arange(-20,20,0.25)\n",
        "        plt.plot(c*eig[0,1],c*eig[0,0], color='orange') \n",
        "        plt.plot(c*eig[1,1], c*eig[1,0], color='orange', label='Eigenvector') \n",
        "\n",
        "    plt.show()"
      ],
      "metadata": {
        "id": "jAcW86GsJCbY"
      },
      "execution_count": null,
      "outputs": []
    },
    {
      "cell_type": "code",
      "source": [
        "x = np.array([\n",
        "    [1,0],\n",
        "    [0,1]\n",
        "])\n",
        "F = np.array([\n",
        "    [-1,2],\n",
        "    [0,2]\n",
        "])\n",
        "eigval, eigvect = np.linalg.eig(F@x)\n",
        "plot_tr_eig(x,F,eigvect)"
      ],
      "metadata": {
        "id": "3aCESfghJCpQ"
      },
      "execution_count": null,
      "outputs": []
    }
  ]
}